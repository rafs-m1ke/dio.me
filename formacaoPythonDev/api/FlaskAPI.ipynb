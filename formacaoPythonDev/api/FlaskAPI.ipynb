{
  "cells": [
    {
      "cell_type": "code",
      "execution_count": 5,
      "metadata": {
        "colab": {
          "base_uri": "https://localhost:8080/"
        },
        "id": "gkVho-74bwhc",
        "outputId": "994ced1e-1eb6-4e2f-cc9b-fc27edf5d9da"
      },
      "outputs": [
        {
          "name": "stdout",
          "output_type": "stream",
          "text": [
            "Requirement already satisfied: flask-ngrok in /Library/Frameworks/Python.framework/Versions/3.12/lib/python3.12/site-packages (0.0.25)\n",
            "Requirement already satisfied: Flask>=0.8 in /Library/Frameworks/Python.framework/Versions/3.12/lib/python3.12/site-packages (from flask-ngrok) (3.0.2)\n",
            "Requirement already satisfied: requests in /Library/Frameworks/Python.framework/Versions/3.12/lib/python3.12/site-packages (from flask-ngrok) (2.31.0)\n",
            "Requirement already satisfied: Werkzeug>=3.0.0 in /Library/Frameworks/Python.framework/Versions/3.12/lib/python3.12/site-packages (from Flask>=0.8->flask-ngrok) (3.0.1)\n",
            "Requirement already satisfied: Jinja2>=3.1.2 in /Library/Frameworks/Python.framework/Versions/3.12/lib/python3.12/site-packages (from Flask>=0.8->flask-ngrok) (3.1.3)\n",
            "Requirement already satisfied: itsdangerous>=2.1.2 in /Library/Frameworks/Python.framework/Versions/3.12/lib/python3.12/site-packages (from Flask>=0.8->flask-ngrok) (2.1.2)\n",
            "Requirement already satisfied: click>=8.1.3 in /Library/Frameworks/Python.framework/Versions/3.12/lib/python3.12/site-packages (from Flask>=0.8->flask-ngrok) (8.1.7)\n",
            "Requirement already satisfied: blinker>=1.6.2 in /Library/Frameworks/Python.framework/Versions/3.12/lib/python3.12/site-packages (from Flask>=0.8->flask-ngrok) (1.7.0)\n",
            "Requirement already satisfied: charset-normalizer<4,>=2 in /Library/Frameworks/Python.framework/Versions/3.12/lib/python3.12/site-packages (from requests->flask-ngrok) (3.3.2)\n",
            "Requirement already satisfied: idna<4,>=2.5 in /Library/Frameworks/Python.framework/Versions/3.12/lib/python3.12/site-packages (from requests->flask-ngrok) (3.6)\n",
            "Requirement already satisfied: urllib3<3,>=1.21.1 in /Library/Frameworks/Python.framework/Versions/3.12/lib/python3.12/site-packages (from requests->flask-ngrok) (2.2.1)\n",
            "Requirement already satisfied: certifi>=2017.4.17 in /Library/Frameworks/Python.framework/Versions/3.12/lib/python3.12/site-packages (from requests->flask-ngrok) (2024.2.2)\n",
            "Requirement already satisfied: MarkupSafe>=2.0 in /Library/Frameworks/Python.framework/Versions/3.12/lib/python3.12/site-packages (from Jinja2>=3.1.2->Flask>=0.8->flask-ngrok) (2.1.5)\n",
            "Collecting pandas\n",
            "  Using cached pandas-2.2.1-cp312-cp312-macosx_11_0_arm64.whl.metadata (19 kB)\n",
            "Collecting numpy<2,>=1.26.0 (from pandas)\n",
            "  Using cached numpy-1.26.4-cp312-cp312-macosx_11_0_arm64.whl.metadata (61 kB)\n",
            "Requirement already satisfied: python-dateutil>=2.8.2 in /Users/rafs.m1ke/Library/Python/3.12/lib/python/site-packages (from pandas) (2.9.0.post0)\n",
            "Requirement already satisfied: pytz>=2020.1 in /Library/Frameworks/Python.framework/Versions/3.12/lib/python3.12/site-packages (from pandas) (2024.1)\n",
            "Collecting tzdata>=2022.7 (from pandas)\n",
            "  Using cached tzdata-2024.1-py2.py3-none-any.whl.metadata (1.4 kB)\n",
            "Requirement already satisfied: six>=1.5 in /Users/rafs.m1ke/Library/Python/3.12/lib/python/site-packages (from python-dateutil>=2.8.2->pandas) (1.16.0)\n",
            "Using cached pandas-2.2.1-cp312-cp312-macosx_11_0_arm64.whl (11.3 MB)\n",
            "Using cached numpy-1.26.4-cp312-cp312-macosx_11_0_arm64.whl (13.7 MB)\n",
            "Using cached tzdata-2024.1-py2.py3-none-any.whl (345 kB)\n",
            "Installing collected packages: tzdata, numpy, pandas\n",
            "Successfully installed numpy-1.26.4 pandas-2.2.1 tzdata-2024.1\n"
          ]
        }
      ],
      "source": [
        "!pip3 install flask-ngrok\n",
        "!pip3 install pandas"
      ]
    },
    {
      "cell_type": "code",
      "execution_count": 6,
      "metadata": {
        "id": "SnjoSwjUcHnj"
      },
      "outputs": [],
      "source": [
        "import pandas as pd\n",
        "from flask_ngrok import run_with_ngrok\n",
        "from flask import jsonify, Flask, request\n",
        "import random as r"
      ]
    },
    {
      "cell_type": "code",
      "execution_count": 7,
      "metadata": {
        "id": "Jc-qOBBncHbT"
      },
      "outputs": [],
      "source": [
        "app = Flask(__name__)\n",
        "run_with_ngrok(app)"
      ]
    },
    {
      "cell_type": "code",
      "execution_count": 9,
      "metadata": {
        "id": "g3-3whP0qFZ9"
      },
      "outputs": [],
      "source": [
        "json = [\n",
        "    {\n",
        "      \"number\": 1,\n",
        "      \"name\": \"Mahesh\",\n",
        "      \"age\": 25,\n",
        "      \"city\": \"Bangalore\",\n",
        "      \"country\": \"India\"\n",
        "    },\n",
        "    {\n",
        "      \"number\": 2,\n",
        "      \"name\": \"Alex\",\n",
        "      \"age\": 26,\n",
        "      \"city\": \"London\",\n",
        "      \"country\": \"UK\"\n",
        "    },\n",
        "    {\n",
        "      \"number\": 3,\n",
        "      \"name\": \"David\",\n",
        "      \"age\": 27,\n",
        "      \"city\": \"San Francisco\",\n",
        "      \"country\": \"USA\"\n",
        "    },\n",
        "    {\n",
        "      \"number\": 4,\n",
        "      \"name\": \"John\",\n",
        "      \"age\": 28,\n",
        "      \"city\": \"Toronto\",\n",
        "      \"country\": \"Canada\"\n",
        "    },\n",
        "    {\n",
        "      \"number\": 5,\n",
        "      \"name\": \"Chris\",\n",
        "      \"age\": 29,\n",
        "      \"city\": \"Paris\",\n",
        "      \"country\": \"France\"\n",
        "    },\n",
        "    ]"
      ]
    },
    {
      "cell_type": "code",
      "execution_count": 10,
      "metadata": {
        "id": "kvJkQc8jra_E"
      },
      "outputs": [],
      "source": [
        "@app.route(\"/\")\n",
        "\n",
        "def home():\n",
        "  return \"<marquee><h3> TO CHECK IN PUT ADD '/input' TO THE URL AND TO CHECK OUT PUT ADD '/output' TO THE URL.</h3></marquee>\""
      ]
    },
    {
      "cell_type": "code",
      "execution_count": 11,
      "metadata": {
        "id": "T8iBpkKwsF1l"
      },
      "outputs": [],
      "source": [
        "@app.route(\"/input\")\n",
        "\n",
        "def input():\n",
        "  return jsonify(json)"
      ]
    },
    {
      "cell_type": "code",
      "execution_count": 12,
      "metadata": {
        "colab": {
          "base_uri": "https://localhost:8080/"
        },
        "id": "v2KOvNkZsQ9z",
        "outputId": "fa59cc86-716e-45d8-ccbd-e53e43331141"
      },
      "outputs": [
        {
          "name": "stdout",
          "output_type": "stream",
          "text": [
            " * Serving Flask app '__main__'\n",
            " * Debug mode: off\n"
          ]
        },
        {
          "name": "stderr",
          "output_type": "stream",
          "text": [
            "\u001b[31m\u001b[1mWARNING: This is a development server. Do not use it in a production deployment. Use a production WSGI server instead.\u001b[0m\n",
            " * Running on http://127.0.0.1:5000\n",
            "\u001b[33mPress CTRL+C to quit\u001b[0m\n",
            "Exception in thread Thread-4:\n",
            "Traceback (most recent call last):\n",
            "  File \"/Library/Frameworks/Python.framework/Versions/3.12/lib/python3.12/threading.py\", line 1052, in _bootstrap_inner\n",
            "    self.run()\n",
            "  File \"/Library/Frameworks/Python.framework/Versions/3.12/lib/python3.12/threading.py\", line 1410, in run\n",
            "    self.function(*self.args, **self.kwargs)\n",
            "  File \"/Library/Frameworks/Python.framework/Versions/3.12/lib/python3.12/site-packages/flask_ngrok.py\", line 70, in start_ngrok\n",
            "    ngrok_address = _run_ngrok()\n",
            "                    ^^^^^^^^^^^^\n",
            "  File \"/Library/Frameworks/Python.framework/Versions/3.12/lib/python3.12/site-packages/flask_ngrok.py\", line 31, in _run_ngrok\n",
            "    ngrok = subprocess.Popen([executable, 'http', '5000'])\n",
            "            ^^^^^^^^^^^^^^^^^^^^^^^^^^^^^^^^^^^^^^^^^^^^^^\n",
            "  File \"/Library/Frameworks/Python.framework/Versions/3.12/lib/python3.12/subprocess.py\", line 1026, in __init__\n",
            "    self._execute_child(args, executable, preexec_fn, close_fds,\n",
            "  File \"/Library/Frameworks/Python.framework/Versions/3.12/lib/python3.12/subprocess.py\", line 1950, in _execute_child\n",
            "    raise child_exception_type(errno_num, err_msg, err_filename)\n",
            "PermissionError: [Errno 13] Permission denied: '/var/folders/p1/2hfn71jj6fq_j4pbhyln0f3h0000gn/T/ngrok/ngrok'\n",
            "127.0.0.1 - - [30/Mar/2024 16:09:11] \"GET / HTTP/1.1\" 200 -\n",
            "127.0.0.1 - - [30/Mar/2024 16:09:11] \"\u001b[33mGET /favicon.ico HTTP/1.1\u001b[0m\" 404 -\n",
            "127.0.0.1 - - [30/Mar/2024 16:09:30] \"GET /input HTTP/1.1\" 200 -\n",
            "[2024-03-30 16:09:38,944] ERROR in app: Exception on /output [GET]\n",
            "Traceback (most recent call last):\n",
            "  File \"/Library/Frameworks/Python.framework/Versions/3.12/lib/python3.12/site-packages/flask/app.py\", line 1463, in wsgi_app\n",
            "    response = self.full_dispatch_request()\n",
            "               ^^^^^^^^^^^^^^^^^^^^^^^^^^^^\n",
            "  File \"/Library/Frameworks/Python.framework/Versions/3.12/lib/python3.12/site-packages/flask/app.py\", line 872, in full_dispatch_request\n",
            "    rv = self.handle_user_exception(e)\n",
            "         ^^^^^^^^^^^^^^^^^^^^^^^^^^^^^\n",
            "  File \"/Library/Frameworks/Python.framework/Versions/3.12/lib/python3.12/site-packages/flask/app.py\", line 870, in full_dispatch_request\n",
            "    rv = self.dispatch_request()\n",
            "         ^^^^^^^^^^^^^^^^^^^^^^^\n",
            "  File \"/Library/Frameworks/Python.framework/Versions/3.12/lib/python3.12/site-packages/flask/app.py\", line 855, in dispatch_request\n",
            "    return self.ensure_sync(self.view_functions[rule.endpoint])(**view_args)  # type: ignore[no-any-return]\n",
            "           ^^^^^^^^^^^^^^^^^^^^^^^^^^^^^^^^^^^^^^^^^^^^^^^^^^^^^^^^^^^^^^^^^\n",
            "  File \"/var/folders/p1/2hfn71jj6fq_j4pbhyln0f3h0000gn/T/ipykernel_4168/1755222386.py\", line 6, in pred_json\n",
            "    nd[\"prediction\"]=pred\n",
            "    ~~^^^^^^^^^^^^^^\n",
            "TypeError: list indices must be integers or slices, not str\n",
            "127.0.0.1 - - [30/Mar/2024 16:09:38] \"\u001b[35m\u001b[1mGET /output HTTP/1.1\u001b[0m\" 500 -\n",
            "127.0.0.1 - - [30/Mar/2024 16:09:43] \"\u001b[33mGET /outout HTTP/1.1\u001b[0m\" 404 -\n",
            "[2024-03-30 16:09:48,313] ERROR in app: Exception on /output [GET]\n",
            "Traceback (most recent call last):\n",
            "  File \"/Library/Frameworks/Python.framework/Versions/3.12/lib/python3.12/site-packages/flask/app.py\", line 1463, in wsgi_app\n",
            "    response = self.full_dispatch_request()\n",
            "               ^^^^^^^^^^^^^^^^^^^^^^^^^^^^\n",
            "  File \"/Library/Frameworks/Python.framework/Versions/3.12/lib/python3.12/site-packages/flask/app.py\", line 872, in full_dispatch_request\n",
            "    rv = self.handle_user_exception(e)\n",
            "         ^^^^^^^^^^^^^^^^^^^^^^^^^^^^^\n",
            "  File \"/Library/Frameworks/Python.framework/Versions/3.12/lib/python3.12/site-packages/flask/app.py\", line 870, in full_dispatch_request\n",
            "    rv = self.dispatch_request()\n",
            "         ^^^^^^^^^^^^^^^^^^^^^^^\n",
            "  File \"/Library/Frameworks/Python.framework/Versions/3.12/lib/python3.12/site-packages/flask/app.py\", line 855, in dispatch_request\n",
            "    return self.ensure_sync(self.view_functions[rule.endpoint])(**view_args)  # type: ignore[no-any-return]\n",
            "           ^^^^^^^^^^^^^^^^^^^^^^^^^^^^^^^^^^^^^^^^^^^^^^^^^^^^^^^^^^^^^^^^^\n",
            "  File \"/var/folders/p1/2hfn71jj6fq_j4pbhyln0f3h0000gn/T/ipykernel_4168/1755222386.py\", line 6, in pred_json\n",
            "    nd[\"prediction\"]=pred\n",
            "    ~~^^^^^^^^^^^^^^\n",
            "TypeError: list indices must be integers or slices, not str\n",
            "127.0.0.1 - - [30/Mar/2024 16:09:48] \"\u001b[35m\u001b[1mGET /output HTTP/1.1\u001b[0m\" 500 -\n"
          ]
        }
      ],
      "source": [
        "@app.route(\"/output\", methods=['GET', 'POST'])\n",
        "\n",
        "def pred_json():\n",
        "  pred = r.choice([\"positive\", \"negative\"])\n",
        "  nd = json\n",
        "  nd[\"prediction\"]=pred\n",
        "  return jsonify(nd)\n",
        "\n",
        "app.run()"
      ]
    }
  ],
  "metadata": {
    "colab": {
      "provenance": []
    },
    "kernelspec": {
      "display_name": "Python 3",
      "name": "python3"
    },
    "language_info": {
      "codemirror_mode": {
        "name": "ipython",
        "version": 3
      },
      "file_extension": ".py",
      "mimetype": "text/x-python",
      "name": "python",
      "nbconvert_exporter": "python",
      "pygments_lexer": "ipython3",
      "version": "3.12.0"
    }
  },
  "nbformat": 4,
  "nbformat_minor": 0
}
